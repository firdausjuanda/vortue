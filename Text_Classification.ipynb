{
  "nbformat": 4,
  "nbformat_minor": 0,
  "metadata": {
    "colab": {
      "provenance": [],
      "authorship_tag": "ABX9TyNulErQnWuPgOaqiJoNtBrz",
      "include_colab_link": true
    },
    "kernelspec": {
      "name": "python3",
      "display_name": "Python 3"
    },
    "language_info": {
      "name": "python"
    }
  },
  "cells": [
    {
      "cell_type": "markdown",
      "metadata": {
        "id": "view-in-github",
        "colab_type": "text"
      },
      "source": [
        "<a href=\"https://colab.research.google.com/github/firdausjuanda/vortue/blob/main/Text_Classification.ipynb\" target=\"_parent\"><img src=\"https://colab.research.google.com/assets/colab-badge.svg\" alt=\"Open In Colab\"/></a>"
      ]
    },
    {
      "cell_type": "code",
      "source": [
        "pip install Sastrawi"
      ],
      "metadata": {
        "id": "8WY8L-XGH-jX",
        "outputId": "02c00538-250b-4211-d6d7-5b223394a3b4",
        "colab": {
          "base_uri": "https://localhost:8080/"
        }
      },
      "execution_count": null,
      "outputs": [
        {
          "output_type": "stream",
          "name": "stdout",
          "text": [
            "Looking in indexes: https://pypi.org/simple, https://us-python.pkg.dev/colab-wheels/public/simple/\n",
            "Collecting Sastrawi\n",
            "  Downloading Sastrawi-1.0.1-py2.py3-none-any.whl (209 kB)\n",
            "\u001b[?25l     \u001b[90m━━━━━━━━━━━━━━━━━━━━━━━━━━━━━━━━━━━━━━━━\u001b[0m \u001b[32m0.0/209.7 KB\u001b[0m \u001b[31m?\u001b[0m eta \u001b[36m-:--:--\u001b[0m\r\u001b[2K     \u001b[90m━━━━━━━━━━━━━━━━━━━━━━━━━━━━━━━━━━━━━━\u001b[0m \u001b[32m209.7/209.7 KB\u001b[0m \u001b[31m11.8 MB/s\u001b[0m eta \u001b[36m0:00:00\u001b[0m\n",
            "\u001b[?25hInstalling collected packages: Sastrawi\n",
            "Successfully installed Sastrawi-1.0.1\n"
          ]
        }
      ]
    },
    {
      "cell_type": "code",
      "source": [
        "import pandas as pd\n",
        "import numpy as np\n",
        "import tensorflow as tf\n",
        "from tensorflow.keras.preprocessing.text import Tokenizer\n",
        "from tensorflow.keras.preprocessing.sequence import pad_sequences\n",
        "from tensorflow.keras.models import Sequential\n",
        "from tensorflow.keras.layers import Embedding, LSTM, Dense, Dropout\n",
        "\n",
        "# load dataset\n",
        "df = pd.read_csv('data.csv', delimiter=',', encoding='latin-1')\n",
        "df = df[['permit_category', 'permit_description']]\n",
        "df = df.dropna()\n",
        "\n",
        "# tokenize dataset\n",
        "tokenizer = Tokenizer(num_words=5000, oov_token=\"<OOV>\")\n",
        "tokenizer.fit_on_texts(df['permit_description'])\n",
        "word_index = tokenizer.word_index\n",
        "print('Found %s unique tokens.' % len(word_index))\n",
        "\n",
        "# pad sequences\n",
        "max_length = 200\n",
        "sequences = tokenizer.texts_to_sequences(df['permit_description'])\n",
        "padded_sequences = pad_sequences(sequences, maxlen=max_length, padding='post', truncating='post')\n",
        "\n",
        "# convert permit category to numerical labels\n",
        "labels = df['permit_category'].unique()\n",
        "labels_dict = dict(zip(labels, np.arange(len(labels))))\n",
        "df['LABEL'] = df['permit_category'].map(labels_dict)\n",
        "\n",
        "# split dataset into train and test sets\n",
        "train_size = int(0.8 * len(df))\n",
        "train_data = padded_sequences[:train_size]\n",
        "train_labels = df['LABEL'][:train_size].values\n",
        "test_data = padded_sequences[train_size:]\n",
        "test_labels = df['LABEL'][train_size:].values\n",
        "\n",
        "# build RNN model\n",
        "model = Sequential()\n",
        "model.add(Embedding(5000, 32, input_length=max_length))\n",
        "model.add(LSTM(32, return_sequences=True))\n",
        "model.add(LSTM(32))\n",
        "model.add(Dense(64, activation='relu'))\n",
        "model.add(Dropout(0.5))\n",
        "model.add(Dense(len(labels), activation='softmax'))\n",
        "\n",
        "# compile model\n",
        "model.compile(loss='sparse_categorical_crossentropy', optimizer='adam', metrics=['accuracy'])\n",
        "print(model.summary())\n",
        "\n",
        "# train model\n",
        "num_epochs = 10\n",
        "history = model.fit(train_data, train_labels, epochs=num_epochs, validation_data=(test_data, test_labels), verbose=2)\n",
        "\n",
        "# evaluate model\n",
        "loss, accuracy = model.evaluate(test_data, test_labels, verbose=0)\n",
        "print('Test accuracy: %f' % (accuracy*100))\n",
        "\n",
        "# save model\n",
        "model.save('permit_category_model_rnn.h5')\n"
      ],
      "metadata": {
        "colab": {
          "base_uri": "https://localhost:8080/"
        },
        "id": "0n6Y7SuaDy5w",
        "outputId": "22b5318e-b434-42c5-c7d5-1f0846dfdb24"
      },
      "execution_count": 4,
      "outputs": [
        {
          "output_type": "stream",
          "name": "stdout",
          "text": [
            "Found 2755 unique tokens.\n",
            "Model: \"sequential_1\"\n",
            "_________________________________________________________________\n",
            " Layer (type)                Output Shape              Param #   \n",
            "=================================================================\n",
            " embedding_1 (Embedding)     (None, 200, 32)           160000    \n",
            "                                                                 \n",
            " lstm_1 (LSTM)               (None, 200, 32)           8320      \n",
            "                                                                 \n",
            " lstm_2 (LSTM)               (None, 32)                8320      \n",
            "                                                                 \n",
            " dense_3 (Dense)             (None, 64)                2112      \n",
            "                                                                 \n",
            " dropout_1 (Dropout)         (None, 64)                0         \n",
            "                                                                 \n",
            " dense_4 (Dense)             (None, 8)                 520       \n",
            "                                                                 \n",
            "=================================================================\n",
            "Total params: 179,272\n",
            "Trainable params: 179,272\n",
            "Non-trainable params: 0\n",
            "_________________________________________________________________\n",
            "None\n",
            "Epoch 1/10\n",
            "250/250 - 41s - loss: 1.6248 - accuracy: 0.3397 - val_loss: 1.5090 - val_accuracy: 0.3590 - 41s/epoch - 165ms/step\n",
            "Epoch 2/10\n",
            "250/250 - 36s - loss: 1.5337 - accuracy: 0.3606 - val_loss: 1.5101 - val_accuracy: 0.3590 - 36s/epoch - 146ms/step\n",
            "Epoch 3/10\n",
            "250/250 - 37s - loss: 1.5155 - accuracy: 0.3681 - val_loss: 1.5113 - val_accuracy: 0.3590 - 37s/epoch - 147ms/step\n",
            "Epoch 4/10\n",
            "250/250 - 36s - loss: 1.5105 - accuracy: 0.3734 - val_loss: 1.5125 - val_accuracy: 0.3590 - 36s/epoch - 146ms/step\n",
            "Epoch 5/10\n",
            "250/250 - 40s - loss: 1.5059 - accuracy: 0.3765 - val_loss: 1.5149 - val_accuracy: 0.3590 - 40s/epoch - 160ms/step\n",
            "Epoch 6/10\n",
            "250/250 - 37s - loss: 1.5009 - accuracy: 0.3778 - val_loss: 1.5119 - val_accuracy: 0.3590 - 37s/epoch - 149ms/step\n",
            "Epoch 7/10\n",
            "250/250 - 37s - loss: 1.5046 - accuracy: 0.3764 - val_loss: 1.5138 - val_accuracy: 0.3590 - 37s/epoch - 149ms/step\n",
            "Epoch 8/10\n",
            "250/250 - 37s - loss: 1.5052 - accuracy: 0.3767 - val_loss: 1.5154 - val_accuracy: 0.3590 - 37s/epoch - 150ms/step\n",
            "Epoch 9/10\n",
            "250/250 - 37s - loss: 1.5026 - accuracy: 0.3770 - val_loss: 1.5130 - val_accuracy: 0.3590 - 37s/epoch - 149ms/step\n",
            "Epoch 10/10\n",
            "250/250 - 39s - loss: 1.5021 - accuracy: 0.3770 - val_loss: 1.5154 - val_accuracy: 0.3590 - 39s/epoch - 154ms/step\n",
            "Test accuracy: 35.900000\n"
          ]
        }
      ]
    }
  ]
}